{
 "cells": [
  {
   "cell_type": "markdown",
   "metadata": {
    "application/vnd.databricks.v1+cell": {
     "cellMetadata": {
      "byteLimit": 2048000,
      "rowLimit": 10000
     },
     "inputWidgets": {},
     "nuid": "7f86f6b0-ecbf-453c-9d8f-5bbaa2478928",
     "showTitle": false,
     "tableResultSettingsMap": {},
     "title": ""
    }
   },
   "source": [
    "\n",
    "**3-Engenharia-de-Dados-MVP-Criação-Carga-Gold**\n",
    "\n",
    "Este notebook cria e carrega as tabelas da camada golden a partir das tabelas da camada silver. A tabela \"cursos_final\" é criada a partir da tabela \"cursos\" (camada silver), acrescida de campos que descrevem unidade de ensino e são provenientes da tabela \"escolas\" (camada silver). Não serão carregados cursos, cuja unidade de ensino não exista na tabela \"escolas\" (camada silver).\n",
    "\n",
    "A tabela \"escolas_final\", por sua vez, é criada a partir da tabela \"escolas\" (camada silver) e de uma tabela temporária da camada golden que possui quantitativos de cursos por unidade de ensino. Essa tabela, \"escolas_qtd_cursos\", é apagada ao final."
   ]
  },
  {
   "cell_type": "code",
   "execution_count": 0,
   "metadata": {
    "application/vnd.databricks.v1+cell": {
     "cellMetadata": {
      "byteLimit": 2048000,
      "implicitDf": true,
      "rowLimit": 10000
     },
     "inputWidgets": {},
     "nuid": "ace67515-7812-46ba-94b8-e9f5bf7a280e",
     "showTitle": true,
     "tableResultSettingsMap": {},
     "title": "Criando camada gold"
    }
   },
   "outputs": [
    {
     "output_type": "display_data",
     "data": {
      "text/html": [
       "<style scoped>\n",
       "  .table-result-container {\n",
       "    max-height: 300px;\n",
       "    overflow: auto;\n",
       "  }\n",
       "  table, th, td {\n",
       "    border: 1px solid black;\n",
       "    border-collapse: collapse;\n",
       "  }\n",
       "  th, td {\n",
       "    padding: 5px;\n",
       "  }\n",
       "  th {\n",
       "    text-align: left;\n",
       "  }\n",
       "</style><div class='table-result-container'><table class='table-result'><thead style='background-color: white'><tr></tr></thead><tbody></tbody></table></div>"
      ]
     },
     "metadata": {
      "application/vnd.databricks.v1+output": {
       "addedWidgets": {},
       "aggData": [],
       "aggError": "",
       "aggOverflow": false,
       "aggSchema": [],
       "aggSeriesLimitReached": false,
       "aggType": "",
       "arguments": {},
       "columnCustomDisplayInfos": {},
       "data": [],
       "datasetInfos": [],
       "dbfsResultPath": null,
       "isJsonSchema": true,
       "metadata": {},
       "overflow": false,
       "plotOptions": {
        "customPlotOptions": {},
        "displayType": "table",
        "pivotAggregation": null,
        "pivotColumns": null,
        "xColumns": null,
        "yColumns": null
       },
       "removedWidgets": [],
       "schema": [],
       "type": "table"
      }
     },
     "output_type": "display_data"
    }
   ],
   "source": [
    "%sql\n",
    "\n",
    "-- 2) Criando camada gold\n",
    "\n",
    "-- criando camada gold\n",
    "CREATE DATABASE gold\n"
   ]
  },
  {
   "cell_type": "code",
   "execution_count": 0,
   "metadata": {
    "application/vnd.databricks.v1+cell": {
     "cellMetadata": {
      "byteLimit": 2048000,
      "implicitDf": true,
      "rowLimit": 10000
     },
     "inputWidgets": {},
     "nuid": "004fc3ed-b086-4b4b-b8f1-00add4ccda72",
     "showTitle": true,
     "tableResultSettingsMap": {},
     "title": "Criando tabela cursos_final com campos selecionados e detalhes da unidade de ensino"
    }
   },
   "outputs": [
    {
     "output_type": "display_data",
     "data": {
      "text/html": [
       "<style scoped>\n",
       "  .table-result-container {\n",
       "    max-height: 300px;\n",
       "    overflow: auto;\n",
       "  }\n",
       "  table, th, td {\n",
       "    border: 1px solid black;\n",
       "    border-collapse: collapse;\n",
       "  }\n",
       "  th, td {\n",
       "    padding: 5px;\n",
       "  }\n",
       "  th {\n",
       "    text-align: left;\n",
       "  }\n",
       "</style><div class='table-result-container'><table class='table-result'><thead style='background-color: white'><tr></tr></thead><tbody></tbody></table></div>"
      ]
     },
     "metadata": {
      "application/vnd.databricks.v1+output": {
       "addedWidgets": {},
       "aggData": [],
       "aggError": "",
       "aggOverflow": false,
       "aggSchema": [],
       "aggSeriesLimitReached": false,
       "aggType": "",
       "arguments": {},
       "columnCustomDisplayInfos": {},
       "data": [],
       "datasetInfos": [],
       "dbfsResultPath": null,
       "isJsonSchema": true,
       "metadata": {},
       "overflow": false,
       "plotOptions": {
        "customPlotOptions": {},
        "displayType": "table",
        "pivotAggregation": null,
        "pivotColumns": null,
        "xColumns": null,
        "yColumns": null
       },
       "removedWidgets": [],
       "schema": [],
       "type": "table"
      }
     },
     "output_type": "display_data"
    }
   ],
   "source": [
    "%sql\n",
    "\n",
    "-- 3) Criando tabela cursos_final com campos selecionados e detalhes da unidade de ensino\n",
    "\n",
    "-- Como as informações de UNIDADE_DE_ENSINO, UF, CODIGO_MUNICIPIO e MUNICIPIO são provenientes da tabela escolas (silver), será mantido apenas um campo para cada na tabela cursos_final (gold), resultado da junção entre cursos (silver) e escolas (silver); os campos de mesmo nome na tabela cursos (silver) serão desconsiderados.\n",
    "\n",
    "CREATE TABLE gold.cursos_final (\n",
    "    NOME_SUBTIPO_DE_CURSOS VARCHAR(255),\n",
    "    CODIGO_CURSO INT,\n",
    "    CURSO VARCHAR(255),\n",
    "    EIXO_TECNOLOGICO VARCHAR(255),\n",
    "    MODALIDADE VARCHAR(100),\n",
    "    CARGA_HORARIA_CURSO INT,\n",
    "    SITUACAO_ATIVO BOOLEAN,\n",
    "    NOME_SISTEMA_DE_ENSINO VARCHAR(255),\n",
    "    NOME_TIPO_ESCOLA VARCHAR(255),\n",
    "    CODIGO_UNIDADE_DE_ENSINO INT,\n",
    "    UNIDADE_DE_ENSINO VARCHAR(255),\n",
    "    NOME_DEPENDENCIA_ADMINISTRATIVA VARCHAR(255),\n",
    "    NOME_SUBDEPENDENCIA_ADMINISTRATIVA VARCHAR(255),\n",
    "    UF CHAR(2),\n",
    "    CODIGO_MUNICIPIO INT,\n",
    "    MUNICIPIO VARCHAR(255)\n",
    ");\n"
   ]
  },
  {
   "cell_type": "code",
   "execution_count": 0,
   "metadata": {
    "application/vnd.databricks.v1+cell": {
     "cellMetadata": {
      "byteLimit": 2048000,
      "implicitDf": true,
      "rowLimit": 10000
     },
     "inputWidgets": {},
     "nuid": "6c018c95-344e-4716-957d-32243aac44ab",
     "showTitle": true,
     "tableResultSettingsMap": {},
     "title": "Povoando tabela cursos_final com dados da junção de cursos e escolas"
    }
   },
   "outputs": [
    {
     "output_type": "display_data",
     "data": {
      "text/html": [
       "<style scoped>\n",
       "  .table-result-container {\n",
       "    max-height: 300px;\n",
       "    overflow: auto;\n",
       "  }\n",
       "  table, th, td {\n",
       "    border: 1px solid black;\n",
       "    border-collapse: collapse;\n",
       "  }\n",
       "  th, td {\n",
       "    padding: 5px;\n",
       "  }\n",
       "  th {\n",
       "    text-align: left;\n",
       "  }\n",
       "</style><div class='table-result-container'><table class='table-result'><thead style='background-color: white'><tr><th>num_affected_rows</th><th>num_inserted_rows</th></tr></thead><tbody><tr><td>83137</td><td>83137</td></tr></tbody></table></div>"
      ]
     },
     "metadata": {
      "application/vnd.databricks.v1+output": {
       "addedWidgets": {},
       "aggData": [],
       "aggError": "",
       "aggOverflow": false,
       "aggSchema": [],
       "aggSeriesLimitReached": false,
       "aggType": "",
       "arguments": {},
       "columnCustomDisplayInfos": {},
       "data": [
        [
         83137,
         83137
        ]
       ],
       "datasetInfos": [],
       "dbfsResultPath": null,
       "isJsonSchema": true,
       "metadata": {},
       "overflow": false,
       "plotOptions": {
        "customPlotOptions": {},
        "displayType": "table",
        "pivotAggregation": null,
        "pivotColumns": null,
        "xColumns": null,
        "yColumns": null
       },
       "removedWidgets": [],
       "schema": [
        {
         "metadata": "{}",
         "name": "num_affected_rows",
         "type": "\"long\""
        },
        {
         "metadata": "{}",
         "name": "num_inserted_rows",
         "type": "\"long\""
        }
       ],
       "type": "table"
      }
     },
     "output_type": "display_data"
    }
   ],
   "source": [
    "%sql \n",
    "\n",
    "-- 4) Povoando tabela cursos_final com dados da junção de cursos e escolas\n",
    "\n",
    "INSERT INTO gold.cursos_final (\n",
    "  NOME_SUBTIPO_DE_CURSOS,\n",
    "  CODIGO_CURSO,\n",
    "  CURSO,\n",
    "  EIXO_TECNOLOGICO,\n",
    "  MODALIDADE,\n",
    "  CARGA_HORARIA_CURSO,\n",
    "  SITUACAO_ATIVO,\n",
    "  NOME_SISTEMA_DE_ENSINO,\n",
    "  NOME_TIPO_ESCOLA,\n",
    "  CODIGO_UNIDADE_DE_ENSINO,\n",
    "  UNIDADE_DE_ENSINO,\n",
    "  NOME_DEPENDENCIA_ADMINISTRATIVA,\n",
    "  NOME_SUBDEPENDENCIA_ADMINISTRATIVA,\n",
    "  UF,\n",
    "  CODIGO_MUNICIPIO,\n",
    "  MUNICIPIO)\n",
    "SELECT \n",
    "  sc.NOME_SUBTIPO_DE_CURSOS,\n",
    "  sc.CODIGO_CURSO,\n",
    "  sc.CURSO,\n",
    "  sc.EIXO_TECNOLOGICO,\n",
    "  sc.MODALIDADE,\n",
    "  sc.CARGA_HORARIA_CURSO,\n",
    "  sc.SITUACAO_ATIVO,\n",
    "  se.NOME_SISTEMA_DE_ENSINO,\n",
    "  se.NOME_TIPO_ESCOLA,\n",
    "  se.CODIGO_UNIDADE_DE_ENSINO,\n",
    "  se.UNIDADE_DE_ENSINO,\n",
    "  se.NOME_DEPENDENCIA_ADMINISTRATIVA,\n",
    "  se.NOME_SUBDEPENDENCIA_ADMINISTRATIVA,\n",
    "  se.UF,\n",
    "  se.CODIGO_MUNICIPIO,\n",
    "  se.MUNICIPIO\n",
    "FROM silver.cursos sc\n",
    "INNER JOIN silver.escolas se ON sc.CODIGO_UNIDADE_DE_ENSINO = se.CODIGO_UNIDADE_DE_ENSINO\n"
   ]
  },
  {
   "cell_type": "code",
   "execution_count": 0,
   "metadata": {
    "application/vnd.databricks.v1+cell": {
     "cellMetadata": {
      "byteLimit": 2048000,
      "implicitDf": true,
      "rowLimit": 10000
     },
     "inputWidgets": {},
     "nuid": "f4490984-a1e8-4050-b3d2-f75be5e4b377",
     "showTitle": true,
     "tableResultSettingsMap": {},
     "title": "Criando tabela temporária escolas_qtd_cursos com quantitativos de cursos"
    }
   },
   "outputs": [
    {
     "output_type": "display_data",
     "data": {
      "text/html": [
       "<style scoped>\n",
       "  .table-result-container {\n",
       "    max-height: 300px;\n",
       "    overflow: auto;\n",
       "  }\n",
       "  table, th, td {\n",
       "    border: 1px solid black;\n",
       "    border-collapse: collapse;\n",
       "  }\n",
       "  th, td {\n",
       "    padding: 5px;\n",
       "  }\n",
       "  th {\n",
       "    text-align: left;\n",
       "  }\n",
       "</style><div class='table-result-container'><table class='table-result'><thead style='background-color: white'><tr><th>num_affected_rows</th><th>num_inserted_rows</th></tr></thead><tbody><tr><td>22508</td><td>22508</td></tr></tbody></table></div>"
      ]
     },
     "metadata": {
      "application/vnd.databricks.v1+output": {
       "addedWidgets": {},
       "aggData": [],
       "aggError": "",
       "aggOverflow": false,
       "aggSchema": [],
       "aggSeriesLimitReached": false,
       "aggType": "",
       "arguments": {},
       "columnCustomDisplayInfos": {},
       "data": [
        [
         22508,
         22508
        ]
       ],
       "datasetInfos": [],
       "dbfsResultPath": null,
       "isJsonSchema": true,
       "metadata": {},
       "overflow": false,
       "plotOptions": {
        "customPlotOptions": {},
        "displayType": "table",
        "pivotAggregation": null,
        "pivotColumns": null,
        "xColumns": null,
        "yColumns": null
       },
       "removedWidgets": [],
       "schema": [
        {
         "metadata": "{}",
         "name": "num_affected_rows",
         "type": "\"long\""
        },
        {
         "metadata": "{}",
         "name": "num_inserted_rows",
         "type": "\"long\""
        }
       ],
       "type": "table"
      }
     },
     "output_type": "display_data"
    }
   ],
   "source": [
    "%sql\n",
    "\n",
    "-- 5) Criando tabela temporária escolas_qtd_cursos com quantitativos de cursos\n",
    "\n",
    "CREATE TABLE gold.escolas_qtd_cursos (\n",
    "    CODIGO_UNIDADE_DE_ENSINO INT,\n",
    "    QTD_CURSOS_PRESENCIAIS INT,\n",
    "    QTD_CURSOS_DISTANCIA INT,\n",
    "    QTD_CURSOS_TOTAIS INT\n",
    ");\n",
    "\n",
    "INSERT INTO gold.escolas_qtd_cursos (\n",
    "        CODIGO_UNIDADE_DE_ENSINO, \n",
    "        QTD_CURSOS_PRESENCIAIS, \n",
    "        QTD_CURSOS_DISTANCIA, \n",
    "        QTD_CURSOS_TOTAIS)\n",
    "SELECT se.CODIGO_UNIDADE_DE_ENSINO, \n",
    "        COUNT(CASE WHEN sc.MODALIDADE IN ('Educação Presencial', 'Todos') THEN 1 END) AS QTD_CURSOS_PRESENCIAIS,\n",
    "        COUNT(CASE WHEN sc.MODALIDADE IN ('Educação a Distância', 'Todos') THEN 1 END) AS QTD_CURSOS_DISTANCIA,\n",
    "        COUNT(sc.CODIGO_CURSO) AS QTD_CURSOS_TOTAIS\n",
    "FROM silver.escolas se\n",
    "LEFT JOIN silver.cursos sc ON sc.CODIGO_UNIDADE_DE_ENSINO = se.CODIGO_UNIDADE_DE_ENSINO\n",
    "GROUP BY se.CODIGO_UNIDADE_DE_ENSINO\n",
    "ORDER BY QTD_CURSOS_TOTAIS DESC\n"
   ]
  },
  {
   "cell_type": "code",
   "execution_count": 0,
   "metadata": {
    "application/vnd.databricks.v1+cell": {
     "cellMetadata": {
      "byteLimit": 2048000,
      "implicitDf": true,
      "rowLimit": 10000
     },
     "inputWidgets": {},
     "nuid": "d74227a0-1658-4102-9cd6-e0ece9dcb07b",
     "showTitle": true,
     "tableResultSettingsMap": {},
     "title": "Criando tabela escolas_final com campos selecionados e quantitativos de cursos"
    }
   },
   "outputs": [
    {
     "output_type": "display_data",
     "data": {
      "text/html": [
       "<style scoped>\n",
       "  .table-result-container {\n",
       "    max-height: 300px;\n",
       "    overflow: auto;\n",
       "  }\n",
       "  table, th, td {\n",
       "    border: 1px solid black;\n",
       "    border-collapse: collapse;\n",
       "  }\n",
       "  th, td {\n",
       "    padding: 5px;\n",
       "  }\n",
       "  th {\n",
       "    text-align: left;\n",
       "  }\n",
       "</style><div class='table-result-container'><table class='table-result'><thead style='background-color: white'><tr></tr></thead><tbody></tbody></table></div>"
      ]
     },
     "metadata": {
      "application/vnd.databricks.v1+output": {
       "addedWidgets": {},
       "aggData": [],
       "aggError": "",
       "aggOverflow": false,
       "aggSchema": [],
       "aggSeriesLimitReached": false,
       "aggType": "",
       "arguments": {},
       "columnCustomDisplayInfos": {},
       "data": [],
       "datasetInfos": [],
       "dbfsResultPath": null,
       "isJsonSchema": true,
       "metadata": {},
       "overflow": false,
       "plotOptions": {
        "customPlotOptions": {},
        "displayType": "table",
        "pivotAggregation": null,
        "pivotColumns": null,
        "xColumns": null,
        "yColumns": null
       },
       "removedWidgets": [],
       "schema": [],
       "type": "table"
      }
     },
     "output_type": "display_data"
    }
   ],
   "source": [
    "%sql\n",
    "\n",
    "-- 6) Criando tabela escolas_final com campos selecionados e quantitativos de cursos\n",
    "\n",
    "CREATE TABLE gold.escolas_final (\n",
    "    NOME_SISTEMA_DE_ENSINO VARCHAR(255),\n",
    "    NOME_TIPO_ESCOLA VARCHAR(255),\n",
    "    CODIGO_UNIDADE_DE_ENSINO INT,\n",
    "    UNIDADE_DE_ENSINO VARCHAR(255),\n",
    "    NOME_DEPENDENCIA_ADMINISTRATIVA VARCHAR(255),\n",
    "    NOME_SUBDEPENDENCIA_ADMINISTRATIVA VARCHAR(255),\n",
    "    UF CHAR(2),\n",
    "    CODIGO_MUNICIPIO INT,\n",
    "    MUNICIPIO VARCHAR(255),\n",
    "    QTD_CURSOS_PRESENCIAIS INT, \n",
    "    QTD_CURSOS_DISTANCIA INT, \n",
    "    QTD_CURSOS_TOTAIS INT\n",
    ")\n"
   ]
  },
  {
   "cell_type": "code",
   "execution_count": 0,
   "metadata": {
    "application/vnd.databricks.v1+cell": {
     "cellMetadata": {
      "byteLimit": 2048000,
      "implicitDf": true,
      "rowLimit": 10000
     },
     "inputWidgets": {},
     "nuid": "e0d37815-0fba-4de8-86ba-d0d9cf28a3f0",
     "showTitle": true,
     "tableResultSettingsMap": {},
     "title": "Povoando tabela escolas_final com dados da junção de escolas e escolas_qtd_cursos (temporária)"
    }
   },
   "outputs": [
    {
     "output_type": "display_data",
     "data": {
      "text/html": [
       "<style scoped>\n",
       "  .table-result-container {\n",
       "    max-height: 300px;\n",
       "    overflow: auto;\n",
       "  }\n",
       "  table, th, td {\n",
       "    border: 1px solid black;\n",
       "    border-collapse: collapse;\n",
       "  }\n",
       "  th, td {\n",
       "    padding: 5px;\n",
       "  }\n",
       "  th {\n",
       "    text-align: left;\n",
       "  }\n",
       "</style><div class='table-result-container'><table class='table-result'><thead style='background-color: white'><tr><th>num_affected_rows</th><th>num_inserted_rows</th></tr></thead><tbody><tr><td>22508</td><td>22508</td></tr></tbody></table></div>"
      ]
     },
     "metadata": {
      "application/vnd.databricks.v1+output": {
       "addedWidgets": {},
       "aggData": [],
       "aggError": "",
       "aggOverflow": false,
       "aggSchema": [],
       "aggSeriesLimitReached": false,
       "aggType": "",
       "arguments": {},
       "columnCustomDisplayInfos": {},
       "data": [
        [
         22508,
         22508
        ]
       ],
       "datasetInfos": [],
       "dbfsResultPath": null,
       "isJsonSchema": true,
       "metadata": {},
       "overflow": false,
       "plotOptions": {
        "customPlotOptions": {},
        "displayType": "table",
        "pivotAggregation": null,
        "pivotColumns": null,
        "xColumns": null,
        "yColumns": null
       },
       "removedWidgets": [],
       "schema": [
        {
         "metadata": "{}",
         "name": "num_affected_rows",
         "type": "\"long\""
        },
        {
         "metadata": "{}",
         "name": "num_inserted_rows",
         "type": "\"long\""
        }
       ],
       "type": "table"
      }
     },
     "output_type": "display_data"
    }
   ],
   "source": [
    "%sql\n",
    "\n",
    "-- 7) Povoando tabela escolas_final com dados da junção de escolas e escolas_qtd_cursos (temporária)\n",
    "\n",
    "INSERT INTO gold.escolas_final (\n",
    "    NOME_SISTEMA_DE_ENSINO,\n",
    "    NOME_TIPO_ESCOLA,\n",
    "    CODIGO_UNIDADE_DE_ENSINO,\n",
    "    UNIDADE_DE_ENSINO,\n",
    "    NOME_DEPENDENCIA_ADMINISTRATIVA,\n",
    "    NOME_SUBDEPENDENCIA_ADMINISTRATIVA,\n",
    "    UF,\n",
    "    CODIGO_MUNICIPIO,\n",
    "    MUNICIPIO,\n",
    "    QTD_CURSOS_PRESENCIAIS, \n",
    "    QTD_CURSOS_DISTANCIA, \n",
    "    QTD_CURSOS_TOTAIS\n",
    ")\n",
    "SELECT\n",
    "    se.NOME_SISTEMA_DE_ENSINO,\n",
    "    se.NOME_TIPO_ESCOLA,\n",
    "    se.CODIGO_UNIDADE_DE_ENSINO,\n",
    "    se.UNIDADE_DE_ENSINO,\n",
    "    se.NOME_DEPENDENCIA_ADMINISTRATIVA,\n",
    "    se.NOME_SUBDEPENDENCIA_ADMINISTRATIVA,\n",
    "    se.UF,\n",
    "    se.CODIGO_MUNICIPIO,\n",
    "    se.MUNICIPIO,\n",
    "    gec.QTD_CURSOS_PRESENCIAIS, \n",
    "    gec.QTD_CURSOS_DISTANCIA, \n",
    "    gec.QTD_CURSOS_TOTAIS\n",
    "FROM silver.escolas se LEFT JOIN gold.escolas_qtd_cursos gec ON gec.CODIGO_UNIDADE_DE_ENSINO = se.CODIGO_UNIDADE_DE_ENSINO\n"
   ]
  },
  {
   "cell_type": "code",
   "execution_count": 0,
   "metadata": {
    "application/vnd.databricks.v1+cell": {
     "cellMetadata": {
      "byteLimit": 2048000,
      "implicitDf": true,
      "rowLimit": 10000
     },
     "inputWidgets": {},
     "nuid": "854a73b4-90a8-4124-b4a5-04143821420e",
     "showTitle": true,
     "tableResultSettingsMap": {},
     "title": "Apagando tabela temporária escolas_qtd_cursos"
    }
   },
   "outputs": [
    {
     "output_type": "display_data",
     "data": {
      "text/html": [
       "<style scoped>\n",
       "  .table-result-container {\n",
       "    max-height: 300px;\n",
       "    overflow: auto;\n",
       "  }\n",
       "  table, th, td {\n",
       "    border: 1px solid black;\n",
       "    border-collapse: collapse;\n",
       "  }\n",
       "  th, td {\n",
       "    padding: 5px;\n",
       "  }\n",
       "  th {\n",
       "    text-align: left;\n",
       "  }\n",
       "</style><div class='table-result-container'><table class='table-result'><thead style='background-color: white'><tr></tr></thead><tbody></tbody></table></div>"
      ]
     },
     "metadata": {
      "application/vnd.databricks.v1+output": {
       "addedWidgets": {},
       "aggData": [],
       "aggError": "",
       "aggOverflow": false,
       "aggSchema": [],
       "aggSeriesLimitReached": false,
       "aggType": "",
       "arguments": {},
       "columnCustomDisplayInfos": {},
       "data": [],
       "datasetInfos": [],
       "dbfsResultPath": null,
       "isJsonSchema": true,
       "metadata": {},
       "overflow": false,
       "plotOptions": {
        "customPlotOptions": {},
        "displayType": "table",
        "pivotAggregation": null,
        "pivotColumns": null,
        "xColumns": null,
        "yColumns": null
       },
       "removedWidgets": [],
       "schema": [],
       "type": "table"
      }
     },
     "output_type": "display_data"
    }
   ],
   "source": [
    "%sql\n",
    "\n",
    "-- 8) Apagando tabela temporária escolas_qtd_cursos\n",
    "\n",
    "DROP TABLE gold.escolas_qtd_cursos\n"
   ]
  }
 ],
 "metadata": {
  "application/vnd.databricks.v1+notebook": {
   "computePreferences": null,
   "dashboards": [],
   "environmentMetadata": {
    "base_environment": "",
    "environment_version": "1"
   },
   "inputWidgetPreferences": null,
   "language": "python",
   "notebookMetadata": {
    "mostRecentlyExecutedCommandWithImplicitDF": {
     "commandId": 1417549263179098,
     "dataframes": [
      "_sqldf"
     ]
    },
    "pythonIndentUnit": 4
   },
   "notebookName": "3-Engenharia-de-Dados-MVP-Criação-Carga-Gold",
   "widgets": {}
  }
 },
 "nbformat": 4,
 "nbformat_minor": 0
}