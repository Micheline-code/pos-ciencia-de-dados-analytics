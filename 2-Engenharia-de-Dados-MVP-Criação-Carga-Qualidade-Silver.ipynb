{
 "cells": [
  {
   "cell_type": "markdown",
   "metadata": {
    "application/vnd.databricks.v1+cell": {
     "cellMetadata": {
      "byteLimit": 2048000,
      "rowLimit": 10000
     },
     "inputWidgets": {},
     "nuid": "f86294f5-7ae9-43ee-aa58-1c293575ba7c",
     "showTitle": true,
     "tableResultSettingsMap": {},
     "title": ""
    }
   },
   "source": [
    "\n",
    "**2-Engenharia-de-Dados-MVP-Criação-Carga-Qualidade-Silver**\n",
    "\n",
    "Este notebook cria e carrega as tabelas da camada silver a partir das tabelas da camada bronze. Para criação das tabelas \"escolas\" e \"cursos\" da camada silver, campos das tabelas correspondentes na camada bronze são selecionados; seus tipos de dados são ajustados; valores texto, booleanos e nulos são tratados. \n",
    "\n",
    "Além disso, verifica-se que dados de unidade de ensino, uf e município presentes em cursos são das unidades de ensino. Por fim, são realizadas algumas análises que mostram que nem todas as unidades de ensino da tabela \"cursos\" existem na tabela \"escolas\" e, também, que nem todas as unidades de ensino da tabela \"escolas\" estão na tabela \"cursos\". "
   ]
  },
  {
   "cell_type": "code",
   "execution_count": 0,
   "metadata": {
    "application/vnd.databricks.v1+cell": {
     "cellMetadata": {
      "byteLimit": 2048000,
      "implicitDf": true,
      "rowLimit": 10000
     },
     "inputWidgets": {},
     "nuid": "492b0a8d-44e8-4b55-9a12-a2341c9c3f9e",
     "showTitle": true,
     "tableResultSettingsMap": {},
     "title": "Criando camada silver"
    }
   },
   "outputs": [
    {
     "output_type": "display_data",
     "data": {
      "text/html": [
       "<style scoped>\n",
       "  .table-result-container {\n",
       "    max-height: 300px;\n",
       "    overflow: auto;\n",
       "  }\n",
       "  table, th, td {\n",
       "    border: 1px solid black;\n",
       "    border-collapse: collapse;\n",
       "  }\n",
       "  th, td {\n",
       "    padding: 5px;\n",
       "  }\n",
       "  th {\n",
       "    text-align: left;\n",
       "  }\n",
       "</style><div class='table-result-container'><table class='table-result'><thead style='background-color: white'><tr></tr></thead><tbody></tbody></table></div>"
      ]
     },
     "metadata": {
      "application/vnd.databricks.v1+output": {
       "addedWidgets": {},
       "aggData": [],
       "aggError": "",
       "aggOverflow": false,
       "aggSchema": [],
       "aggSeriesLimitReached": false,
       "aggType": "",
       "arguments": {},
       "columnCustomDisplayInfos": {},
       "data": [],
       "datasetInfos": [],
       "dbfsResultPath": null,
       "isJsonSchema": true,
       "metadata": {},
       "overflow": false,
       "plotOptions": {
        "customPlotOptions": {},
        "displayType": "table",
        "pivotAggregation": null,
        "pivotColumns": null,
        "xColumns": null,
        "yColumns": null
       },
       "removedWidgets": [],
       "schema": [],
       "type": "table"
      }
     },
     "output_type": "display_data"
    }
   ],
   "source": [
    "%sql\n",
    "\n",
    "-- 2) Criando camada silver\n",
    "\n",
    "-- Criando camada silver\n",
    "CREATE DATABASE silver\n"
   ]
  },
  {
   "cell_type": "code",
   "execution_count": 0,
   "metadata": {
    "application/vnd.databricks.v1+cell": {
     "cellMetadata": {
      "byteLimit": 2048000,
      "implicitDf": true,
      "rowLimit": 10000
     },
     "inputWidgets": {},
     "nuid": "e8b14a2e-604e-4288-90a9-a19c04d8a799",
     "showTitle": true,
     "tableResultSettingsMap": {},
     "title": "Criando tabela escolas com campos selecionados e novos tipos de dados"
    },
    "jupyter": {
     "outputs_hidden": true
    }
   },
   "outputs": [
    {
     "output_type": "display_data",
     "data": {
      "text/html": [
       "<style scoped>\n",
       "  .table-result-container {\n",
       "    max-height: 300px;\n",
       "    overflow: auto;\n",
       "  }\n",
       "  table, th, td {\n",
       "    border: 1px solid black;\n",
       "    border-collapse: collapse;\n",
       "  }\n",
       "  th, td {\n",
       "    padding: 5px;\n",
       "  }\n",
       "  th {\n",
       "    text-align: left;\n",
       "  }\n",
       "</style><div class='table-result-container'><table class='table-result'><thead style='background-color: white'><tr></tr></thead><tbody></tbody></table></div>"
      ]
     },
     "metadata": {
      "application/vnd.databricks.v1+output": {
       "addedWidgets": {},
       "aggData": [],
       "aggError": "",
       "aggOverflow": false,
       "aggSchema": [],
       "aggSeriesLimitReached": false,
       "aggType": "",
       "arguments": {},
       "columnCustomDisplayInfos": {},
       "data": [],
       "datasetInfos": [],
       "dbfsResultPath": null,
       "isJsonSchema": true,
       "metadata": {},
       "overflow": false,
       "plotOptions": {
        "customPlotOptions": {},
        "displayType": "table",
        "pivotAggregation": null,
        "pivotColumns": null,
        "xColumns": null,
        "yColumns": null
       },
       "removedWidgets": [],
       "schema": [],
       "type": "table"
      }
     },
     "output_type": "display_data"
    }
   ],
   "source": [
    "%sql\n",
    "\n",
    "-- 3) Criando tabela escolas com campos selecionados e novos tipos de dados\n",
    "\n",
    "CREATE TABLE silver.escolas (\n",
    "    NOME_SISTEMA_DE_ENSINO VARCHAR(255),\n",
    "    NOME_TIPO_ESCOLA VARCHAR(255),\n",
    "    CODIGO_UNIDADE_DE_ENSINO INT,\n",
    "    UNIDADE_DE_ENSINO VARCHAR(255),\n",
    "    NOME_DEPENDENCIA_ADMINISTRATIVA VARCHAR(255),\n",
    "    NOME_SUBDEPENDENCIA_ADMINISTRATIVA VARCHAR(255),\n",
    "    UF CHAR(2),\n",
    "    CODIGO_MUNICIPIO INT,\n",
    "    MUNICIPIO VARCHAR(255)\n",
    ")"
   ]
  },
  {
   "cell_type": "code",
   "execution_count": 0,
   "metadata": {
    "application/vnd.databricks.v1+cell": {
     "cellMetadata": {
      "byteLimit": 2048000,
      "implicitDf": true,
      "rowLimit": 10000
     },
     "inputWidgets": {},
     "nuid": "1a18a6cd-4c43-4db0-9667-5083cbaef7cd",
     "showTitle": true,
     "tableResultSettingsMap": {},
     "title": "Povoando tabela escolas com dados tratados da camada bronze"
    }
   },
   "outputs": [
    {
     "output_type": "display_data",
     "data": {
      "text/html": [
       "<style scoped>\n",
       "  .table-result-container {\n",
       "    max-height: 300px;\n",
       "    overflow: auto;\n",
       "  }\n",
       "  table, th, td {\n",
       "    border: 1px solid black;\n",
       "    border-collapse: collapse;\n",
       "  }\n",
       "  th, td {\n",
       "    padding: 5px;\n",
       "  }\n",
       "  th {\n",
       "    text-align: left;\n",
       "  }\n",
       "</style><div class='table-result-container'><table class='table-result'><thead style='background-color: white'><tr><th>num_affected_rows</th><th>num_inserted_rows</th></tr></thead><tbody><tr><td>22508</td><td>22508</td></tr></tbody></table></div>"
      ]
     },
     "metadata": {
      "application/vnd.databricks.v1+output": {
       "addedWidgets": {},
       "aggData": [],
       "aggError": "",
       "aggOverflow": false,
       "aggSchema": [],
       "aggSeriesLimitReached": false,
       "aggType": "",
       "arguments": {},
       "columnCustomDisplayInfos": {},
       "data": [
        [
         22508,
         22508
        ]
       ],
       "datasetInfos": [],
       "dbfsResultPath": null,
       "isJsonSchema": true,
       "metadata": {},
       "overflow": false,
       "plotOptions": {
        "customPlotOptions": {},
        "displayType": "table",
        "pivotAggregation": null,
        "pivotColumns": null,
        "xColumns": null,
        "yColumns": null
       },
       "removedWidgets": [],
       "schema": [
        {
         "metadata": "{}",
         "name": "num_affected_rows",
         "type": "\"long\""
        },
        {
         "metadata": "{}",
         "name": "num_inserted_rows",
         "type": "\"long\""
        }
       ],
       "type": "table"
      }
     },
     "output_type": "display_data"
    }
   ],
   "source": [
    "%sql\n",
    "\n",
    "-- 4) Povoando tabela escolas com dados tratados da camada bronze\n",
    "\n",
    "INSERT INTO silver.escolas (NOME_SISTEMA_DE_ENSINO, NOME_TIPO_ESCOLA, CODIGO_UNIDADE_DE_ENSINO, UNIDADE_DE_ENSINO, NOME_DEPENDENCIA_ADMINISTRATIVA, NOME_SUBDEPENDENCIA_ADMINISTRATIVA, UF, CODIGO_MUNICIPIO, MUNICIPIO)\n",
    "SELECT NOME_SISTEMA_DE_ENSINO, NOME_TIPO_ESCOLA, int(CODIGO_UNIDADE_DE_ENSINO), UPPER(UNIDADE_DE_ENSINO), NOME_DEPENDENCIA_ADMINISTRATIVA, (CASE WHEN NOME_SUBDEPENDENCIA_ADMINISTRATIVA = 'null' THEN 'NA' ELSE NOME_SUBDEPENDENCIA_ADMINISTRATIVA END) AS NOME_SUBDEPENDENCIA_ADMINISTRATIVA_novo, UF, int(CODIGO_MUNICIPIO), UPPER(MUNICIPIO) FROM bronze.escolas_sistec"
   ]
  },
  {
   "cell_type": "code",
   "execution_count": 0,
   "metadata": {
    "application/vnd.databricks.v1+cell": {
     "cellMetadata": {
      "byteLimit": 2048000,
      "implicitDf": true,
      "rowLimit": 10000
     },
     "inputWidgets": {},
     "nuid": "4e6eb060-48f4-496a-a28f-f5266e415c84",
     "showTitle": true,
     "tableResultSettingsMap": {},
     "title": "Criando tabela cursos com campos selecionados e novos tipos de dados"
    }
   },
   "outputs": [
    {
     "output_type": "display_data",
     "data": {
      "text/html": [
       "<style scoped>\n",
       "  .table-result-container {\n",
       "    max-height: 300px;\n",
       "    overflow: auto;\n",
       "  }\n",
       "  table, th, td {\n",
       "    border: 1px solid black;\n",
       "    border-collapse: collapse;\n",
       "  }\n",
       "  th, td {\n",
       "    padding: 5px;\n",
       "  }\n",
       "  th {\n",
       "    text-align: left;\n",
       "  }\n",
       "</style><div class='table-result-container'><table class='table-result'><thead style='background-color: white'><tr></tr></thead><tbody></tbody></table></div>"
      ]
     },
     "metadata": {
      "application/vnd.databricks.v1+output": {
       "addedWidgets": {},
       "aggData": [],
       "aggError": "",
       "aggOverflow": false,
       "aggSchema": [],
       "aggSeriesLimitReached": false,
       "aggType": "",
       "arguments": {},
       "columnCustomDisplayInfos": {},
       "data": [],
       "datasetInfos": [],
       "dbfsResultPath": null,
       "isJsonSchema": true,
       "metadata": {},
       "overflow": false,
       "plotOptions": {
        "customPlotOptions": {},
        "displayType": "table",
        "pivotAggregation": null,
        "pivotColumns": null,
        "xColumns": null,
        "yColumns": null
       },
       "removedWidgets": [],
       "schema": [],
       "type": "table"
      }
     },
     "output_type": "display_data"
    }
   ],
   "source": [
    "%sql\n",
    "\n",
    "-- 5) Criando tabela cursos com campos selecionados e novos tipos de dados\n",
    "\n",
    "CREATE TABLE silver.cursos (\n",
    "    NOME_SUBTIPO_DE_CURSOS VARCHAR(255),\n",
    "    CODIGO_CURSO INT,\n",
    "    CURSO VARCHAR(255),\n",
    "    EIXO_TECNOLOGICO VARCHAR(255),\n",
    "    MODALIDADE VARCHAR(100),\n",
    "    CARGA_HORARIA_CURSO INT,\n",
    "    SITUACAO_ATIVO BOOLEAN,\n",
    "    CODIGO_UNIDADE_DE_ENSINO INT,\n",
    "    UNIDADE_DE_ENSINO VARCHAR(255),\n",
    "    UF CHAR(2),\n",
    "    CODIGO_MUNICIPIO INT,\n",
    "    MUNICIPIO VARCHAR(255)\n",
    ");"
   ]
  },
  {
   "cell_type": "code",
   "execution_count": 0,
   "metadata": {
    "application/vnd.databricks.v1+cell": {
     "cellMetadata": {
      "byteLimit": 2048000,
      "implicitDf": true,
      "rowLimit": 10000
     },
     "inputWidgets": {},
     "nuid": "f6e0709e-39ec-4460-873b-9d5213e3edf6",
     "showTitle": true,
     "tableResultSettingsMap": {},
     "title": "Povoando tabela cursos com dados tratados da camada bronze"
    }
   },
   "outputs": [
    {
     "output_type": "display_data",
     "data": {
      "text/html": [
       "<style scoped>\n",
       "  .table-result-container {\n",
       "    max-height: 300px;\n",
       "    overflow: auto;\n",
       "  }\n",
       "  table, th, td {\n",
       "    border: 1px solid black;\n",
       "    border-collapse: collapse;\n",
       "  }\n",
       "  th, td {\n",
       "    padding: 5px;\n",
       "  }\n",
       "  th {\n",
       "    text-align: left;\n",
       "  }\n",
       "</style><div class='table-result-container'><table class='table-result'><thead style='background-color: white'><tr><th>num_affected_rows</th><th>num_inserted_rows</th></tr></thead><tbody><tr><td>83150</td><td>83150</td></tr></tbody></table></div>"
      ]
     },
     "metadata": {
      "application/vnd.databricks.v1+output": {
       "addedWidgets": {},
       "aggData": [],
       "aggError": "",
       "aggOverflow": false,
       "aggSchema": [],
       "aggSeriesLimitReached": false,
       "aggType": "",
       "arguments": {},
       "columnCustomDisplayInfos": {},
       "data": [
        [
         83150,
         83150
        ]
       ],
       "datasetInfos": [],
       "dbfsResultPath": null,
       "isJsonSchema": true,
       "metadata": {},
       "overflow": false,
       "plotOptions": {
        "customPlotOptions": {},
        "displayType": "table",
        "pivotAggregation": null,
        "pivotColumns": null,
        "xColumns": null,
        "yColumns": null
       },
       "removedWidgets": [],
       "schema": [
        {
         "metadata": "{}",
         "name": "num_affected_rows",
         "type": "\"long\""
        },
        {
         "metadata": "{}",
         "name": "num_inserted_rows",
         "type": "\"long\""
        }
       ],
       "type": "table"
      }
     },
     "output_type": "display_data"
    }
   ],
   "source": [
    "%sql\n",
    "\n",
    "-- 6) Povoando tabela cursos com dados tratados da camada bronze\n",
    "\n",
    "INSERT INTO silver.cursos (NOME_SUBTIPO_DE_CURSOS, CODIGO_CURSO, CURSO, EIXO_TECNOLOGICO, MODALIDADE, CARGA_HORARIA_CURSO,SITUACAO_ATIVO, CODIGO_UNIDADE_DE_ENSINO, UNIDADE_DE_ENSINO, UF, CODIGO_MUNICIPIO, MUNICIPIO)\n",
    "SELECT NOME_SUBTIPO_DE_CURSOS, int(CODIGO_CURSO), CURSO, EIXO_TECNOLOGICO, MODALIDADE, int(CARGA_HORARIA_CURSO), (CASE WHEN SITUACAO_ATIVO = 't' THEN CAST('TRUE' AS BOOLEAN) ELSE CAST('FALSE' AS BOOLEAN) END) AS SITUACAO_ATIVO_novo, int(CODIGO_UNIDADE_DE_ENSINO), UPPER(UNIDADE_DE_ENSINO), UF, int(CODIGO_MUNICIPIO), UPPER(MUNICIPIO) FROM bronze.cursos_sistec"
   ]
  },
  {
   "cell_type": "code",
   "execution_count": 0,
   "metadata": {
    "application/vnd.databricks.v1+cell": {
     "cellMetadata": {
      "byteLimit": 2048000,
      "implicitDf": true,
      "rowLimit": 10000
     },
     "inputWidgets": {},
     "nuid": "2c7aecbd-8a6f-4fca-9598-741c926b0619",
     "showTitle": true,
     "tableResultSettingsMap": {},
     "title": "Avaliando campos em comum entre tabelas cursos e escolas - UNIDADE_DE_ENSINO"
    }
   },
   "outputs": [
    {
     "output_type": "display_data",
     "data": {
      "text/html": [
       "<style scoped>\n",
       "  .table-result-container {\n",
       "    max-height: 300px;\n",
       "    overflow: auto;\n",
       "  }\n",
       "  table, th, td {\n",
       "    border: 1px solid black;\n",
       "    border-collapse: collapse;\n",
       "  }\n",
       "  th, td {\n",
       "    padding: 5px;\n",
       "  }\n",
       "  th {\n",
       "    text-align: left;\n",
       "  }\n",
       "</style><div class='table-result-container'><table class='table-result'><thead style='background-color: white'><tr><th>NOME_SUBTIPO_DE_CURSOS</th><th>CODIGO_CURSO</th><th>CURSO</th><th>EIXO_TECNOLOGICO</th><th>MODALIDADE</th><th>CARGA_HORARIA_CURSO</th><th>SITUACAO_ATIVO</th><th>CODIGO_UNIDADE_DE_ENSINO</th><th>UNIDADE_DE_ENSINO</th><th>UF</th><th>CODIGO_MUNICIPIO</th><th>MUNICIPIO</th><th>NOME_SISTEMA_DE_ENSINO</th><th>NOME_TIPO_ESCOLA</th><th>CODIGO_UNIDADE_DE_ENSINO</th><th>UNIDADE_DE_ENSINO</th><th>NOME_DEPENDENCIA_ADMINISTRATIVA</th><th>NOME_SUBDEPENDENCIA_ADMINISTRATIVA</th><th>UF</th><th>CODIGO_MUNICIPIO</th><th>MUNICIPIO</th></tr></thead><tbody></tbody></table></div>"
      ]
     },
     "metadata": {
      "application/vnd.databricks.v1+output": {
       "addedWidgets": {},
       "aggData": [],
       "aggError": "",
       "aggOverflow": false,
       "aggSchema": [],
       "aggSeriesLimitReached": false,
       "aggType": "",
       "arguments": {},
       "columnCustomDisplayInfos": {},
       "data": [],
       "datasetInfos": [],
       "dbfsResultPath": null,
       "isJsonSchema": true,
       "metadata": {},
       "overflow": false,
       "plotOptions": {
        "customPlotOptions": {},
        "displayType": "table",
        "pivotAggregation": null,
        "pivotColumns": null,
        "xColumns": null,
        "yColumns": null
       },
       "removedWidgets": [],
       "schema": [
        {
         "metadata": "{\"__CHAR_VARCHAR_TYPE_STRING\":\"varchar(255)\"}",
         "name": "NOME_SUBTIPO_DE_CURSOS",
         "type": "\"string\""
        },
        {
         "metadata": "{}",
         "name": "CODIGO_CURSO",
         "type": "\"integer\""
        },
        {
         "metadata": "{\"__CHAR_VARCHAR_TYPE_STRING\":\"varchar(255)\"}",
         "name": "CURSO",
         "type": "\"string\""
        },
        {
         "metadata": "{\"__CHAR_VARCHAR_TYPE_STRING\":\"varchar(255)\"}",
         "name": "EIXO_TECNOLOGICO",
         "type": "\"string\""
        },
        {
         "metadata": "{\"__CHAR_VARCHAR_TYPE_STRING\":\"varchar(100)\"}",
         "name": "MODALIDADE",
         "type": "\"string\""
        },
        {
         "metadata": "{}",
         "name": "CARGA_HORARIA_CURSO",
         "type": "\"integer\""
        },
        {
         "metadata": "{}",
         "name": "SITUACAO_ATIVO",
         "type": "\"boolean\""
        },
        {
         "metadata": "{}",
         "name": "CODIGO_UNIDADE_DE_ENSINO",
         "type": "\"integer\""
        },
        {
         "metadata": "{\"__CHAR_VARCHAR_TYPE_STRING\":\"varchar(255)\"}",
         "name": "UNIDADE_DE_ENSINO",
         "type": "\"string\""
        },
        {
         "metadata": "{\"__CHAR_VARCHAR_TYPE_STRING\":\"char(2)\"}",
         "name": "UF",
         "type": "\"string\""
        },
        {
         "metadata": "{}",
         "name": "CODIGO_MUNICIPIO",
         "type": "\"integer\""
        },
        {
         "metadata": "{\"__CHAR_VARCHAR_TYPE_STRING\":\"varchar(255)\"}",
         "name": "MUNICIPIO",
         "type": "\"string\""
        },
        {
         "metadata": "{\"__CHAR_VARCHAR_TYPE_STRING\":\"varchar(255)\"}",
         "name": "NOME_SISTEMA_DE_ENSINO",
         "type": "\"string\""
        },
        {
         "metadata": "{\"__CHAR_VARCHAR_TYPE_STRING\":\"varchar(255)\"}",
         "name": "NOME_TIPO_ESCOLA",
         "type": "\"string\""
        },
        {
         "metadata": "{}",
         "name": "CODIGO_UNIDADE_DE_ENSINO",
         "type": "\"integer\""
        },
        {
         "metadata": "{\"__CHAR_VARCHAR_TYPE_STRING\":\"varchar(255)\"}",
         "name": "UNIDADE_DE_ENSINO",
         "type": "\"string\""
        },
        {
         "metadata": "{\"__CHAR_VARCHAR_TYPE_STRING\":\"varchar(255)\"}",
         "name": "NOME_DEPENDENCIA_ADMINISTRATIVA",
         "type": "\"string\""
        },
        {
         "metadata": "{\"__CHAR_VARCHAR_TYPE_STRING\":\"varchar(255)\"}",
         "name": "NOME_SUBDEPENDENCIA_ADMINISTRATIVA",
         "type": "\"string\""
        },
        {
         "metadata": "{\"__CHAR_VARCHAR_TYPE_STRING\":\"char(2)\"}",
         "name": "UF",
         "type": "\"string\""
        },
        {
         "metadata": "{}",
         "name": "CODIGO_MUNICIPIO",
         "type": "\"integer\""
        },
        {
         "metadata": "{\"__CHAR_VARCHAR_TYPE_STRING\":\"varchar(255)\"}",
         "name": "MUNICIPIO",
         "type": "\"string\""
        }
       ],
       "type": "table"
      }
     },
     "output_type": "display_data"
    }
   ],
   "source": [
    "%sql\n",
    "\n",
    "-- 7) Avaliando campos em comum entre tabelas cursos e escolas - UNIDADE_DE_ENSINO\n",
    "\n",
    "SELECT * FROM silver.cursos sc\n",
    "INNER JOIN silver.escolas se ON sc.CODIGO_UNIDADE_DE_ENSINO = se.CODIGO_UNIDADE_DE_ENSINO\n",
    "WHERE sc.UNIDADE_DE_ENSINO <> se.UNIDADE_DE_ENSINO\n",
    "\n",
    "-- Resultado: Unidade de Ensino da tabela de cursos (silver) é a mesma da tabela de escolas (silver)\n"
   ]
  },
  {
   "cell_type": "code",
   "execution_count": 0,
   "metadata": {
    "application/vnd.databricks.v1+cell": {
     "cellMetadata": {
      "byteLimit": 2048000,
      "implicitDf": true,
      "rowLimit": 10000
     },
     "inputWidgets": {},
     "nuid": "1a2df18d-41a7-465f-81e8-ea2dfa83c1bc",
     "showTitle": true,
     "tableResultSettingsMap": {},
     "title": "Avaliando campos em comum entre tabelas cursos e escolas - UF"
    }
   },
   "outputs": [
    {
     "output_type": "display_data",
     "data": {
      "text/html": [
       "<style scoped>\n",
       "  .table-result-container {\n",
       "    max-height: 300px;\n",
       "    overflow: auto;\n",
       "  }\n",
       "  table, th, td {\n",
       "    border: 1px solid black;\n",
       "    border-collapse: collapse;\n",
       "  }\n",
       "  th, td {\n",
       "    padding: 5px;\n",
       "  }\n",
       "  th {\n",
       "    text-align: left;\n",
       "  }\n",
       "</style><div class='table-result-container'><table class='table-result'><thead style='background-color: white'><tr><th>NOME_SUBTIPO_DE_CURSOS</th><th>CODIGO_CURSO</th><th>CURSO</th><th>EIXO_TECNOLOGICO</th><th>MODALIDADE</th><th>CARGA_HORARIA_CURSO</th><th>SITUACAO_ATIVO</th><th>CODIGO_UNIDADE_DE_ENSINO</th><th>UNIDADE_DE_ENSINO</th><th>UF</th><th>CODIGO_MUNICIPIO</th><th>MUNICIPIO</th><th>NOME_SISTEMA_DE_ENSINO</th><th>NOME_TIPO_ESCOLA</th><th>CODIGO_UNIDADE_DE_ENSINO</th><th>UNIDADE_DE_ENSINO</th><th>NOME_DEPENDENCIA_ADMINISTRATIVA</th><th>NOME_SUBDEPENDENCIA_ADMINISTRATIVA</th><th>UF</th><th>CODIGO_MUNICIPIO</th><th>MUNICIPIO</th></tr></thead><tbody></tbody></table></div>"
      ]
     },
     "metadata": {
      "application/vnd.databricks.v1+output": {
       "addedWidgets": {},
       "aggData": [],
       "aggError": "",
       "aggOverflow": false,
       "aggSchema": [],
       "aggSeriesLimitReached": false,
       "aggType": "",
       "arguments": {},
       "columnCustomDisplayInfos": {},
       "data": [],
       "datasetInfos": [],
       "dbfsResultPath": null,
       "isJsonSchema": true,
       "metadata": {},
       "overflow": false,
       "plotOptions": {
        "customPlotOptions": {},
        "displayType": "table",
        "pivotAggregation": null,
        "pivotColumns": null,
        "xColumns": null,
        "yColumns": null
       },
       "removedWidgets": [],
       "schema": [
        {
         "metadata": "{\"__CHAR_VARCHAR_TYPE_STRING\":\"varchar(255)\"}",
         "name": "NOME_SUBTIPO_DE_CURSOS",
         "type": "\"string\""
        },
        {
         "metadata": "{}",
         "name": "CODIGO_CURSO",
         "type": "\"integer\""
        },
        {
         "metadata": "{\"__CHAR_VARCHAR_TYPE_STRING\":\"varchar(255)\"}",
         "name": "CURSO",
         "type": "\"string\""
        },
        {
         "metadata": "{\"__CHAR_VARCHAR_TYPE_STRING\":\"varchar(255)\"}",
         "name": "EIXO_TECNOLOGICO",
         "type": "\"string\""
        },
        {
         "metadata": "{\"__CHAR_VARCHAR_TYPE_STRING\":\"varchar(100)\"}",
         "name": "MODALIDADE",
         "type": "\"string\""
        },
        {
         "metadata": "{}",
         "name": "CARGA_HORARIA_CURSO",
         "type": "\"integer\""
        },
        {
         "metadata": "{}",
         "name": "SITUACAO_ATIVO",
         "type": "\"boolean\""
        },
        {
         "metadata": "{}",
         "name": "CODIGO_UNIDADE_DE_ENSINO",
         "type": "\"integer\""
        },
        {
         "metadata": "{\"__CHAR_VARCHAR_TYPE_STRING\":\"varchar(255)\"}",
         "name": "UNIDADE_DE_ENSINO",
         "type": "\"string\""
        },
        {
         "metadata": "{\"__CHAR_VARCHAR_TYPE_STRING\":\"char(2)\"}",
         "name": "UF",
         "type": "\"string\""
        },
        {
         "metadata": "{}",
         "name": "CODIGO_MUNICIPIO",
         "type": "\"integer\""
        },
        {
         "metadata": "{\"__CHAR_VARCHAR_TYPE_STRING\":\"varchar(255)\"}",
         "name": "MUNICIPIO",
         "type": "\"string\""
        },
        {
         "metadata": "{\"__CHAR_VARCHAR_TYPE_STRING\":\"varchar(255)\"}",
         "name": "NOME_SISTEMA_DE_ENSINO",
         "type": "\"string\""
        },
        {
         "metadata": "{\"__CHAR_VARCHAR_TYPE_STRING\":\"varchar(255)\"}",
         "name": "NOME_TIPO_ESCOLA",
         "type": "\"string\""
        },
        {
         "metadata": "{}",
         "name": "CODIGO_UNIDADE_DE_ENSINO",
         "type": "\"integer\""
        },
        {
         "metadata": "{\"__CHAR_VARCHAR_TYPE_STRING\":\"varchar(255)\"}",
         "name": "UNIDADE_DE_ENSINO",
         "type": "\"string\""
        },
        {
         "metadata": "{\"__CHAR_VARCHAR_TYPE_STRING\":\"varchar(255)\"}",
         "name": "NOME_DEPENDENCIA_ADMINISTRATIVA",
         "type": "\"string\""
        },
        {
         "metadata": "{\"__CHAR_VARCHAR_TYPE_STRING\":\"varchar(255)\"}",
         "name": "NOME_SUBDEPENDENCIA_ADMINISTRATIVA",
         "type": "\"string\""
        },
        {
         "metadata": "{\"__CHAR_VARCHAR_TYPE_STRING\":\"char(2)\"}",
         "name": "UF",
         "type": "\"string\""
        },
        {
         "metadata": "{}",
         "name": "CODIGO_MUNICIPIO",
         "type": "\"integer\""
        },
        {
         "metadata": "{\"__CHAR_VARCHAR_TYPE_STRING\":\"varchar(255)\"}",
         "name": "MUNICIPIO",
         "type": "\"string\""
        }
       ],
       "type": "table"
      }
     },
     "output_type": "display_data"
    }
   ],
   "source": [
    "%sql\n",
    "\n",
    "-- 8) Avaliando campos em comum entre tabelas cursos e escolas - UF\n",
    "\n",
    "SELECT * FROM silver.cursos sc\n",
    "INNER JOIN silver.escolas se ON sc.CODIGO_UNIDADE_DE_ENSINO = se.CODIGO_UNIDADE_DE_ENSINO\n",
    "WHERE sc.UF <> se.UF\n",
    "\n",
    "-- Resultado: UF da tabela de cursos (silver) é o mesmo da tabela de escolas (silver)"
   ]
  },
  {
   "cell_type": "code",
   "execution_count": 0,
   "metadata": {
    "application/vnd.databricks.v1+cell": {
     "cellMetadata": {
      "byteLimit": 2048000,
      "implicitDf": true,
      "rowLimit": 10000
     },
     "inputWidgets": {},
     "nuid": "ed262571-5b78-467c-9611-f211ec655a11",
     "showTitle": true,
     "tableResultSettingsMap": {},
     "title": "Avaliando campos em comum entre tabelas cursos e escolas - MUNICIPIO"
    }
   },
   "outputs": [
    {
     "output_type": "display_data",
     "data": {
      "text/html": [
       "<style scoped>\n",
       "  .table-result-container {\n",
       "    max-height: 300px;\n",
       "    overflow: auto;\n",
       "  }\n",
       "  table, th, td {\n",
       "    border: 1px solid black;\n",
       "    border-collapse: collapse;\n",
       "  }\n",
       "  th, td {\n",
       "    padding: 5px;\n",
       "  }\n",
       "  th {\n",
       "    text-align: left;\n",
       "  }\n",
       "</style><div class='table-result-container'><table class='table-result'><thead style='background-color: white'><tr><th>NOME_SUBTIPO_DE_CURSOS</th><th>CODIGO_CURSO</th><th>CURSO</th><th>EIXO_TECNOLOGICO</th><th>MODALIDADE</th><th>CARGA_HORARIA_CURSO</th><th>SITUACAO_ATIVO</th><th>CODIGO_UNIDADE_DE_ENSINO</th><th>UNIDADE_DE_ENSINO</th><th>UF</th><th>CODIGO_MUNICIPIO</th><th>MUNICIPIO</th><th>NOME_SISTEMA_DE_ENSINO</th><th>NOME_TIPO_ESCOLA</th><th>CODIGO_UNIDADE_DE_ENSINO</th><th>UNIDADE_DE_ENSINO</th><th>NOME_DEPENDENCIA_ADMINISTRATIVA</th><th>NOME_SUBDEPENDENCIA_ADMINISTRATIVA</th><th>UF</th><th>CODIGO_MUNICIPIO</th><th>MUNICIPIO</th></tr></thead><tbody></tbody></table></div>"
      ]
     },
     "metadata": {
      "application/vnd.databricks.v1+output": {
       "addedWidgets": {},
       "aggData": [],
       "aggError": "",
       "aggOverflow": false,
       "aggSchema": [],
       "aggSeriesLimitReached": false,
       "aggType": "",
       "arguments": {},
       "columnCustomDisplayInfos": {},
       "data": [],
       "datasetInfos": [],
       "dbfsResultPath": null,
       "isJsonSchema": true,
       "metadata": {},
       "overflow": false,
       "plotOptions": {
        "customPlotOptions": {},
        "displayType": "table",
        "pivotAggregation": null,
        "pivotColumns": null,
        "xColumns": null,
        "yColumns": null
       },
       "removedWidgets": [],
       "schema": [
        {
         "metadata": "{\"__CHAR_VARCHAR_TYPE_STRING\":\"varchar(255)\"}",
         "name": "NOME_SUBTIPO_DE_CURSOS",
         "type": "\"string\""
        },
        {
         "metadata": "{}",
         "name": "CODIGO_CURSO",
         "type": "\"integer\""
        },
        {
         "metadata": "{\"__CHAR_VARCHAR_TYPE_STRING\":\"varchar(255)\"}",
         "name": "CURSO",
         "type": "\"string\""
        },
        {
         "metadata": "{\"__CHAR_VARCHAR_TYPE_STRING\":\"varchar(255)\"}",
         "name": "EIXO_TECNOLOGICO",
         "type": "\"string\""
        },
        {
         "metadata": "{\"__CHAR_VARCHAR_TYPE_STRING\":\"varchar(100)\"}",
         "name": "MODALIDADE",
         "type": "\"string\""
        },
        {
         "metadata": "{}",
         "name": "CARGA_HORARIA_CURSO",
         "type": "\"integer\""
        },
        {
         "metadata": "{}",
         "name": "SITUACAO_ATIVO",
         "type": "\"boolean\""
        },
        {
         "metadata": "{}",
         "name": "CODIGO_UNIDADE_DE_ENSINO",
         "type": "\"integer\""
        },
        {
         "metadata": "{\"__CHAR_VARCHAR_TYPE_STRING\":\"varchar(255)\"}",
         "name": "UNIDADE_DE_ENSINO",
         "type": "\"string\""
        },
        {
         "metadata": "{\"__CHAR_VARCHAR_TYPE_STRING\":\"char(2)\"}",
         "name": "UF",
         "type": "\"string\""
        },
        {
         "metadata": "{}",
         "name": "CODIGO_MUNICIPIO",
         "type": "\"integer\""
        },
        {
         "metadata": "{\"__CHAR_VARCHAR_TYPE_STRING\":\"varchar(255)\"}",
         "name": "MUNICIPIO",
         "type": "\"string\""
        },
        {
         "metadata": "{\"__CHAR_VARCHAR_TYPE_STRING\":\"varchar(255)\"}",
         "name": "NOME_SISTEMA_DE_ENSINO",
         "type": "\"string\""
        },
        {
         "metadata": "{\"__CHAR_VARCHAR_TYPE_STRING\":\"varchar(255)\"}",
         "name": "NOME_TIPO_ESCOLA",
         "type": "\"string\""
        },
        {
         "metadata": "{}",
         "name": "CODIGO_UNIDADE_DE_ENSINO",
         "type": "\"integer\""
        },
        {
         "metadata": "{\"__CHAR_VARCHAR_TYPE_STRING\":\"varchar(255)\"}",
         "name": "UNIDADE_DE_ENSINO",
         "type": "\"string\""
        },
        {
         "metadata": "{\"__CHAR_VARCHAR_TYPE_STRING\":\"varchar(255)\"}",
         "name": "NOME_DEPENDENCIA_ADMINISTRATIVA",
         "type": "\"string\""
        },
        {
         "metadata": "{\"__CHAR_VARCHAR_TYPE_STRING\":\"varchar(255)\"}",
         "name": "NOME_SUBDEPENDENCIA_ADMINISTRATIVA",
         "type": "\"string\""
        },
        {
         "metadata": "{\"__CHAR_VARCHAR_TYPE_STRING\":\"char(2)\"}",
         "name": "UF",
         "type": "\"string\""
        },
        {
         "metadata": "{}",
         "name": "CODIGO_MUNICIPIO",
         "type": "\"integer\""
        },
        {
         "metadata": "{\"__CHAR_VARCHAR_TYPE_STRING\":\"varchar(255)\"}",
         "name": "MUNICIPIO",
         "type": "\"string\""
        }
       ],
       "type": "table"
      }
     },
     "output_type": "display_data"
    }
   ],
   "source": [
    "%sql\n",
    "\n",
    "-- 9) Avaliando campos em comum entre tabelas cursos e escolas - MUNICIPIO\n",
    "\n",
    "SELECT * FROM silver.cursos sc\n",
    "INNER JOIN silver.escolas se ON sc.CODIGO_UNIDADE_DE_ENSINO = se.CODIGO_UNIDADE_DE_ENSINO\n",
    "WHERE sc.MUNICIPIO <> se.MUNICIPIO\n",
    "\n",
    "-- Resultado: Município da tabela de cursos (silver) é o mesmo da tabela de escolas (silver)"
   ]
  },
  {
   "cell_type": "code",
   "execution_count": 0,
   "metadata": {
    "application/vnd.databricks.v1+cell": {
     "cellMetadata": {
      "byteLimit": 2048000,
      "implicitDf": true,
      "rowLimit": 10000
     },
     "inputWidgets": {},
     "nuid": "634fefee-c448-4d91-b3ed-95582ea34fb1",
     "showTitle": true,
     "tableResultSettingsMap": {},
     "title": "Avaliando campos em comum entre tabelas cursos e escolas - CODIGO_MUNICIPIO"
    }
   },
   "outputs": [
    {
     "output_type": "display_data",
     "data": {
      "text/html": [
       "<style scoped>\n",
       "  .table-result-container {\n",
       "    max-height: 300px;\n",
       "    overflow: auto;\n",
       "  }\n",
       "  table, th, td {\n",
       "    border: 1px solid black;\n",
       "    border-collapse: collapse;\n",
       "  }\n",
       "  th, td {\n",
       "    padding: 5px;\n",
       "  }\n",
       "  th {\n",
       "    text-align: left;\n",
       "  }\n",
       "</style><div class='table-result-container'><table class='table-result'><thead style='background-color: white'><tr><th>NOME_SUBTIPO_DE_CURSOS</th><th>CODIGO_CURSO</th><th>CURSO</th><th>EIXO_TECNOLOGICO</th><th>MODALIDADE</th><th>CARGA_HORARIA_CURSO</th><th>SITUACAO_ATIVO</th><th>CODIGO_UNIDADE_DE_ENSINO</th><th>UNIDADE_DE_ENSINO</th><th>UF</th><th>CODIGO_MUNICIPIO</th><th>MUNICIPIO</th><th>NOME_SISTEMA_DE_ENSINO</th><th>NOME_TIPO_ESCOLA</th><th>CODIGO_UNIDADE_DE_ENSINO</th><th>UNIDADE_DE_ENSINO</th><th>NOME_DEPENDENCIA_ADMINISTRATIVA</th><th>NOME_SUBDEPENDENCIA_ADMINISTRATIVA</th><th>UF</th><th>CODIGO_MUNICIPIO</th><th>MUNICIPIO</th></tr></thead><tbody></tbody></table></div>"
      ]
     },
     "metadata": {
      "application/vnd.databricks.v1+output": {
       "addedWidgets": {},
       "aggData": [],
       "aggError": "",
       "aggOverflow": false,
       "aggSchema": [],
       "aggSeriesLimitReached": false,
       "aggType": "",
       "arguments": {},
       "columnCustomDisplayInfos": {},
       "data": [],
       "datasetInfos": [],
       "dbfsResultPath": null,
       "isJsonSchema": true,
       "metadata": {},
       "overflow": false,
       "plotOptions": {
        "customPlotOptions": {},
        "displayType": "table",
        "pivotAggregation": null,
        "pivotColumns": null,
        "xColumns": null,
        "yColumns": null
       },
       "removedWidgets": [],
       "schema": [
        {
         "metadata": "{\"__CHAR_VARCHAR_TYPE_STRING\":\"varchar(255)\"}",
         "name": "NOME_SUBTIPO_DE_CURSOS",
         "type": "\"string\""
        },
        {
         "metadata": "{}",
         "name": "CODIGO_CURSO",
         "type": "\"integer\""
        },
        {
         "metadata": "{\"__CHAR_VARCHAR_TYPE_STRING\":\"varchar(255)\"}",
         "name": "CURSO",
         "type": "\"string\""
        },
        {
         "metadata": "{\"__CHAR_VARCHAR_TYPE_STRING\":\"varchar(255)\"}",
         "name": "EIXO_TECNOLOGICO",
         "type": "\"string\""
        },
        {
         "metadata": "{\"__CHAR_VARCHAR_TYPE_STRING\":\"varchar(100)\"}",
         "name": "MODALIDADE",
         "type": "\"string\""
        },
        {
         "metadata": "{}",
         "name": "CARGA_HORARIA_CURSO",
         "type": "\"integer\""
        },
        {
         "metadata": "{}",
         "name": "SITUACAO_ATIVO",
         "type": "\"boolean\""
        },
        {
         "metadata": "{}",
         "name": "CODIGO_UNIDADE_DE_ENSINO",
         "type": "\"integer\""
        },
        {
         "metadata": "{\"__CHAR_VARCHAR_TYPE_STRING\":\"varchar(255)\"}",
         "name": "UNIDADE_DE_ENSINO",
         "type": "\"string\""
        },
        {
         "metadata": "{\"__CHAR_VARCHAR_TYPE_STRING\":\"char(2)\"}",
         "name": "UF",
         "type": "\"string\""
        },
        {
         "metadata": "{}",
         "name": "CODIGO_MUNICIPIO",
         "type": "\"integer\""
        },
        {
         "metadata": "{\"__CHAR_VARCHAR_TYPE_STRING\":\"varchar(255)\"}",
         "name": "MUNICIPIO",
         "type": "\"string\""
        },
        {
         "metadata": "{\"__CHAR_VARCHAR_TYPE_STRING\":\"varchar(255)\"}",
         "name": "NOME_SISTEMA_DE_ENSINO",
         "type": "\"string\""
        },
        {
         "metadata": "{\"__CHAR_VARCHAR_TYPE_STRING\":\"varchar(255)\"}",
         "name": "NOME_TIPO_ESCOLA",
         "type": "\"string\""
        },
        {
         "metadata": "{}",
         "name": "CODIGO_UNIDADE_DE_ENSINO",
         "type": "\"integer\""
        },
        {
         "metadata": "{\"__CHAR_VARCHAR_TYPE_STRING\":\"varchar(255)\"}",
         "name": "UNIDADE_DE_ENSINO",
         "type": "\"string\""
        },
        {
         "metadata": "{\"__CHAR_VARCHAR_TYPE_STRING\":\"varchar(255)\"}",
         "name": "NOME_DEPENDENCIA_ADMINISTRATIVA",
         "type": "\"string\""
        },
        {
         "metadata": "{\"__CHAR_VARCHAR_TYPE_STRING\":\"varchar(255)\"}",
         "name": "NOME_SUBDEPENDENCIA_ADMINISTRATIVA",
         "type": "\"string\""
        },
        {
         "metadata": "{\"__CHAR_VARCHAR_TYPE_STRING\":\"char(2)\"}",
         "name": "UF",
         "type": "\"string\""
        },
        {
         "metadata": "{}",
         "name": "CODIGO_MUNICIPIO",
         "type": "\"integer\""
        },
        {
         "metadata": "{\"__CHAR_VARCHAR_TYPE_STRING\":\"varchar(255)\"}",
         "name": "MUNICIPIO",
         "type": "\"string\""
        }
       ],
       "type": "table"
      }
     },
     "output_type": "display_data"
    }
   ],
   "source": [
    "%sql\n",
    "\n",
    "-- 10) Avaliando campos em comum entre tabelas cursos e escolas - CODIGO_MUNICIPIO\n",
    "\n",
    "SELECT * FROM silver.cursos sc\n",
    "INNER JOIN silver.escolas se ON sc.CODIGO_UNIDADE_DE_ENSINO = se.CODIGO_UNIDADE_DE_ENSINO\n",
    "WHERE sc.CODIGO_MUNICIPIO <> se.CODIGO_MUNICIPIO\n",
    "\n",
    "-- Resultado: Código do Município da tabela de cursos (silver) é o mesmo da tabela de escolas (silver)"
   ]
  },
  {
   "cell_type": "code",
   "execution_count": 0,
   "metadata": {
    "application/vnd.databricks.v1+cell": {
     "cellMetadata": {
      "byteLimit": 2048000,
      "implicitDf": true,
      "rowLimit": 10000
     },
     "inputWidgets": {},
     "nuid": "35078391-c189-416f-a23d-cd3cbf151877",
     "showTitle": true,
     "tableResultSettingsMap": {},
     "title": "Avaliando se todas as unidades de ensino da tabela cursos estão na tabela escolas"
    }
   },
   "outputs": [
    {
     "output_type": "display_data",
     "data": {
      "text/html": [
       "<style scoped>\n",
       "  .table-result-container {\n",
       "    max-height: 300px;\n",
       "    overflow: auto;\n",
       "  }\n",
       "  table, th, td {\n",
       "    border: 1px solid black;\n",
       "    border-collapse: collapse;\n",
       "  }\n",
       "  th, td {\n",
       "    padding: 5px;\n",
       "  }\n",
       "  th {\n",
       "    text-align: left;\n",
       "  }\n",
       "</style><div class='table-result-container'><table class='table-result'><thead style='background-color: white'><tr><th>count(1)</th></tr></thead><tbody><tr><td>13</td></tr></tbody></table></div>"
      ]
     },
     "metadata": {
      "application/vnd.databricks.v1+output": {
       "addedWidgets": {},
       "aggData": [],
       "aggError": "",
       "aggOverflow": false,
       "aggSchema": [],
       "aggSeriesLimitReached": false,
       "aggType": "",
       "arguments": {},
       "columnCustomDisplayInfos": {},
       "data": [
        [
         13
        ]
       ],
       "datasetInfos": [],
       "dbfsResultPath": null,
       "isJsonSchema": true,
       "metadata": {},
       "overflow": false,
       "plotOptions": {
        "customPlotOptions": {},
        "displayType": "table",
        "pivotAggregation": null,
        "pivotColumns": null,
        "xColumns": null,
        "yColumns": null
       },
       "removedWidgets": [],
       "schema": [
        {
         "metadata": "{\"__autoGeneratedAlias\":\"true\"}",
         "name": "count(1)",
         "type": "\"long\""
        }
       ],
       "type": "table"
      }
     },
     "output_type": "display_data"
    }
   ],
   "source": [
    "%sql\n",
    "\n",
    "-- 11) Avaliando se todas as unidades de ensino da tabela cursos estão na tabela escolas\n",
    "\n",
    "SELECT count(*) FROM silver.cursos where CODIGO_UNIDADE_DE_ENSINO NOT IN (SELECT CODIGO_UNIDADE_DE_ENSINO FROM silver.escolas)\n",
    "\n",
    "-- Resultado: 13 unidades de ensino da tabela cursos (silver) não foram encontradas na tabela escolas (silver) e, portanto, não possuem informações complementares próprias da tabela escolas\n"
   ]
  },
  {
   "cell_type": "code",
   "execution_count": 0,
   "metadata": {
    "application/vnd.databricks.v1+cell": {
     "cellMetadata": {
      "byteLimit": 2048000,
      "implicitDf": true,
      "rowLimit": 10000
     },
     "inputWidgets": {},
     "nuid": "325865e3-413f-4361-a4bc-0dd96a028874",
     "showTitle": true,
     "tableResultSettingsMap": {},
     "title": "Avaliando se todas as unidades de ensino da tabela escolas estão na tabela cursos"
    }
   },
   "outputs": [
    {
     "output_type": "display_data",
     "data": {
      "text/html": [
       "<style scoped>\n",
       "  .table-result-container {\n",
       "    max-height: 300px;\n",
       "    overflow: auto;\n",
       "  }\n",
       "  table, th, td {\n",
       "    border: 1px solid black;\n",
       "    border-collapse: collapse;\n",
       "  }\n",
       "  th, td {\n",
       "    padding: 5px;\n",
       "  }\n",
       "  th {\n",
       "    text-align: left;\n",
       "  }\n",
       "</style><div class='table-result-container'><table class='table-result'><thead style='background-color: white'><tr><th>count(1)</th></tr></thead><tbody><tr><td>8093</td></tr></tbody></table></div>"
      ]
     },
     "metadata": {
      "application/vnd.databricks.v1+output": {
       "addedWidgets": {},
       "aggData": [],
       "aggError": "",
       "aggOverflow": false,
       "aggSchema": [],
       "aggSeriesLimitReached": false,
       "aggType": "",
       "arguments": {},
       "columnCustomDisplayInfos": {},
       "data": [
        [
         8093
        ]
       ],
       "datasetInfos": [],
       "dbfsResultPath": null,
       "isJsonSchema": true,
       "metadata": {},
       "overflow": false,
       "plotOptions": {
        "customPlotOptions": {},
        "displayType": "table",
        "pivotAggregation": null,
        "pivotColumns": null,
        "xColumns": null,
        "yColumns": null
       },
       "removedWidgets": [],
       "schema": [
        {
         "metadata": "{\"__autoGeneratedAlias\":\"true\"}",
         "name": "count(1)",
         "type": "\"long\""
        }
       ],
       "type": "table"
      }
     },
     "output_type": "display_data"
    }
   ],
   "source": [
    "%sql\n",
    "\n",
    "-- 12) Avaliando se todas as unidades de ensino da tabela escolas estão na tabela cursos\n",
    "\n",
    "SELECT count(*) FROM silver.escolas where CODIGO_UNIDADE_DE_ENSINO NOT IN (SELECT CODIGO_UNIDADE_DE_ENSINO FROM silver.cursos)\n",
    "\n",
    "-- Resultado: 8.093 unidades de ensino da tabela escolas (silver) não foram encontradas na tabela cursos (silver) e, portanto, não possuem cursos relacionados\n"
   ]
  }
 ],
 "metadata": {
  "application/vnd.databricks.v1+notebook": {
   "computePreferences": null,
   "dashboards": [],
   "environmentMetadata": {
    "base_environment": "",
    "environment_version": "1"
   },
   "inputWidgetPreferences": null,
   "language": "python",
   "notebookMetadata": {
    "mostRecentlyExecutedCommandWithImplicitDF": {
     "commandId": 1417549263179048,
     "dataframes": [
      "_sqldf"
     ]
    },
    "pythonIndentUnit": 4
   },
   "notebookName": "2-Engenharia-de-Dados-MVP-Criação-Carga-Qualidade-Silver",
   "widgets": {}
  }
 },
 "nbformat": 4,
 "nbformat_minor": 0
}